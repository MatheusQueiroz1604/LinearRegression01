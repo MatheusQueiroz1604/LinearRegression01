{
  "nbformat": 4,
  "nbformat_minor": 0,
  "metadata": {
    "colab": {
      "provenance": [],
      "authorship_tag": "ABX9TyPoyLW6HTILeNlib3JRIsyf"
    },
    "kernelspec": {
      "name": "python3",
      "display_name": "Python 3"
    },
    "language_info": {
      "name": "python"
    }
  },
  "cells": [
    {
      "cell_type": "code",
      "execution_count": null,
      "metadata": {
        "id": "ON8hmvsNtway"
      },
      "outputs": [],
      "source": [
        "import numpy as np\n",
        "import matplotlib.pyplot as plt\n",
        "from sklearn.model_selection import train_test_split\n",
        "from sklearn.linear_model import LinearRegression\n",
        "from sklearn.metrics import mean_squared_error\n",
        "\n",
        "np.random.seed(0)\n",
        "area = 2.5 * np.random.randn(100) + 25\n",
        "preco = 100 + 10 * area + np.random.randn(100) * 10\n",
        "\n",
        "area_treino, area_teste, preco_treino, preco_teste = train_test_split(area, preco, test_size=0.2, random_state=0)\n",
        "\n",
        "modelo = LinearRegression()\n",
        "modelo.fit(area_treino.reshape(-1, 1), preco_treino)\n",
        "\n",
        "previsoes = modelo.predict(area_teste.reshape(-1, 1))\n",
        "\n",
        "mse = mean_squared_error(preco_teste, previsoes)\n",
        "print(f\"Erro quadrático médio: {mse:.2f}\")\n",
        "\n",
        "#Gráfico\n",
        "plt.scatter(area_teste, preco_teste, color='blue', label='Dados Reais')\n",
        "plt.plot(area_teste, previsoes, color='red', linewidth=2, label='Previsões')\n",
        "plt.xlabel('Área (m²)')\n",
        "plt.ylabel('Preço (milhares de dólares)')\n",
        "plt.legend()\n",
        "plt.show()"
      ]
    }
  ]
}